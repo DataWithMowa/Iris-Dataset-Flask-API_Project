{
 "cells": [
  {
   "cell_type": "markdown",
   "id": "1efc2994-c21a-42b2-807e-070aebbdecdb",
   "metadata": {},
   "source": [
    "<font size ='4'>**STEP 3: Create an API so others can send data and get predictions.**</font>"
   ]
  },
  {
   "cell_type": "code",
   "execution_count": 4,
   "id": "cbc155b8-d12f-4572-bc5b-69b2c492c388",
   "metadata": {},
   "outputs": [
    {
     "name": "stdout",
     "output_type": "stream",
     "text": [
      " * Serving Flask app '__main__'\n",
      " * Debug mode: on\n"
     ]
    },
    {
     "name": "stderr",
     "output_type": "stream",
     "text": [
      "WARNING: This is a development server. Do not use it in a production deployment. Use a production WSGI server instead.\n",
      " * Running on http://127.0.0.1:5000\n",
      "Press CTRL+C to quit\n"
     ]
    }
   ],
   "source": [
    "import pickle\n",
    "from flask import Flask, request, jsonify\n",
    "import numpy as np\n",
    "import threading\n",
    "\n",
    "# Initialize the Flask application\n",
    "app = Flask(__name__)\n",
    "\n",
    "# Load the trained model (make sure 'iris_model.pkl' is in the same directory)\n",
    "with open('iris_model.pkl', 'rb') as file:\n",
    "    model = pickle.load(file)\n",
    "\n",
    "# Define the API endpoint for making predictions\n",
    "@app.route('/predict', methods=['POST'])\n",
    "def predict():\n",
    "    # Get the data from the POST request\n",
    "    data = request.get_json()\n",
    "    \n",
    "    # Ensure data is in the correct format (should be a list of 4 feature values)\n",
    "    if not data or len(data['features']) != 4:\n",
    "        return jsonify({\"error\": \"Invalid input data\"}), 400\n",
    "    \n",
    "    # Convert input data into numpy array for prediction\n",
    "    input_data = np.array([data['features']])\n",
    "    \n",
    "    # Get the prediction from the model\n",
    "    prediction = model.predict(input_data)\n",
    "    \n",
    "    # Define the species for the predicted class\n",
    "    species = ['Setosa', 'Versicolor', 'Virginica']\n",
    "    \n",
    "    # Return the prediction result in JSON format\n",
    "    return jsonify({\"predicted_species\": species[prediction[0]]})\n",
    "\n",
    "# Run the application in a separate thread\n",
    "def run_flask():\n",
    "    app.run(debug=True, use_reloader=False)  # use_reloader=False to prevent double execution in notebook\n",
    "\n",
    "# Start the Flask app in a separate thread\n",
    "thread = threading.Thread(target=run_flask)\n",
    "thread.start()\n"
   ]
  },
  {
   "cell_type": "code",
   "execution_count": null,
   "id": "f0322bc4-faa5-43eb-adff-eb4ae72586b4",
   "metadata": {},
   "outputs": [],
   "source": []
  }
 ],
 "metadata": {
  "kernelspec": {
   "display_name": "Python 3 (ipykernel)",
   "language": "python",
   "name": "python3"
  },
  "language_info": {
   "codemirror_mode": {
    "name": "ipython",
    "version": 3
   },
   "file_extension": ".py",
   "mimetype": "text/x-python",
   "name": "python",
   "nbconvert_exporter": "python",
   "pygments_lexer": "ipython3",
   "version": "3.12.7"
  }
 },
 "nbformat": 4,
 "nbformat_minor": 5
}
